{
 "cells": [
  {
   "cell_type": "code",
   "execution_count": 56,
   "metadata": {},
   "outputs": [],
   "source": [
    "from run import *\n",
    "from evaluationmatrix import *\n",
    "from IPython.display import display, Markdown"
   ]
  },
  {
   "cell_type": "code",
   "execution_count": 43,
   "metadata": {},
   "outputs": [],
   "source": [
    "housedata, housecategory = importhousedata()\n",
    "winedata, winecategory = importwinedata()\n",
    "cancerdata, cancercategory = importcancerdata()\n",
    "cmcdata,cmccategory = importcmcdata()"
   ]
  },
  {
   "cell_type": "code",
   "execution_count": 74,
   "metadata": {},
   "outputs": [
    {
     "name": "stdout",
     "output_type": "stream",
     "text": [
      "fold 1  accuracy:  0.5167785234899329\n",
      "fold 2  accuracy:  0.5540540540540541\n",
      "fold 3  accuracy:  0.5405405405405406\n",
      "fold 4  accuracy:  0.564625850340136\n",
      "fold 5  accuracy:  0.5170068027210885\n",
      "fold 6  accuracy:  0.4897959183673469\n",
      "fold 7  accuracy:  0.54421768707483\n",
      "fold 8  accuracy:  0.4489795918367347\n",
      "fold 9  accuracy:  0.5850340136054422\n",
      "fold 10  accuracy:  0.4657534246575342\n"
     ]
    }
   ],
   "source": [
    "lists,accu = kfoldcrossvalid(cmcdata, cmccategory, 10, 20, 10, 10, 0.01, 'id3', 0.1)"
   ]
  },
  {
   "cell_type": "code",
   "execution_count": 75,
   "metadata": {},
   "outputs": [
    {
     "name": "stdout",
     "output_type": "stream",
     "text": [
      "0.522678640668764\n"
     ]
    }
   ],
   "source": [
    "print(acc)"
   ]
  },
  {
   "cell_type": "code",
   "execution_count": 83,
   "metadata": {},
   "outputs": [],
   "source": [
    "tptnfpfn = evaluate(lists, 1)[-1]\n",
    "acc, pre, rec, fsc = meanevaluation(lists, 1, 1)"
   ]
  },
  {
   "cell_type": "code",
   "execution_count": 79,
   "metadata": {},
   "outputs": [
    {
     "name": "stdout",
     "output_type": "stream",
     "text": [
      "| **Accuracy** | **Precision** | **Recall** | **F-Score, Beta=1 ** |\n",
      "| :---: | :---: | :---: | :---: |\n",
      "|0.6058108704778434 | 0.592073117725814 | 0.66131592421915 | 0.6241953679062308 |\n",
      "Confusion Matrix:\n",
      "|  | **Predicted +** | **Predicted-** |\n",
      "| :--- | :--- | :--- |\n",
      "| **Actual +** | 41 | 34 |\n",
      "| **Actual -** | 34 | 36 |\n"
     ]
    }
   ],
   "source": [
    "print(\"| **Accuracy** | **Precision** | **Recall** | **F-Score, Beta={} ** |\".format(1))\n",
    "print(\"| :---: | :---: | :---: | :---: |\")\n",
    "print(\"|{} | {} | {} | {} |\".format(acc, pre, rec, fsc))\n",
    "print(\"Confusion Matrix:\")\n",
    "print(\"|  | **Predicted +** | **Predicted-** |\")\n",
    "print(\"| :--- | :--- | :--- |\")\n",
    "print(\"| **Actual +** | {} | {} |\".format(tptnfpfn[0][0], tptnfpfn[0][2]))\n",
    "print(\"| **Actual -** | {} | {} |\".format(tptnfpfn[0][2], tptnfpfn[0][1]))\n"
   ]
  },
  {
   "cell_type": "code",
   "execution_count": 80,
   "metadata": {},
   "outputs": [],
   "source": [
    "def markdownaprf(acc,pre,rec,fsc,beta):\n",
    "    display(Markdown(rf\"\"\"\n",
    "    | **Accuracy** | **Precision** | **Recall** | **F-Score, Beta={beta}** |\n",
    "    | :---: | :---: | :---: | :---: |\n",
    "    |{acc} | {pre} | {rec} | {fsc} |\n",
    "    \"\"\"))"
   ]
  },
  {
   "cell_type": "code",
   "execution_count": 81,
   "metadata": {},
   "outputs": [],
   "source": [
    "def markdownmatrix(tptnfpfn,title):\n",
    "    tp, tn, fp, fn = tptnfpfn[0], tptnfpfn[1], tptnfpfn[2], tptnfpfn[3]\n",
    "    display(Markdown(rf\"\"\"\n",
    "    Confusion Matrix: {title}\n",
    "    |  | **Predicted +** | **Predicted-** |\n",
    "    | :--- | :--- | :--- |\n",
    "    | **Actual +** | {tp} | {fp} |\n",
    "    | **Actual -** | {fn} | {tn} |\n",
    "    \"\"\"))"
   ]
  },
  {
   "cell_type": "code",
   "execution_count": 82,
   "metadata": {},
   "outputs": [
    {
     "data": {
      "text/markdown": [
       "\n",
       "    | **Accuracy** | **Precision** | **Recall** | **F-Score, Beta=1** |\n",
       "    | :---: | :---: | :---: | :---: |\n",
       "    |0.6058108704778434 | 0.592073117725814 | 0.66131592421915 | 0.6241953679062308 |\n",
       "    "
      ],
      "text/plain": [
       "<IPython.core.display.Markdown object>"
      ]
     },
     "metadata": {},
     "output_type": "display_data"
    }
   ],
   "source": [
    "markdownaprf(acc,pre,rec,fsc,1)"
   ]
  }
 ],
 "metadata": {
  "interpreter": {
   "hash": "aee8b7b246df8f9039afb4144a1f6fd8d2ca17a180786b69acc140d282b71a49"
  },
  "kernelspec": {
   "display_name": "Python 3.10.0 64-bit",
   "language": "python",
   "name": "python3"
  },
  "language_info": {
   "codemirror_mode": {
    "name": "ipython",
    "version": 3
   },
   "file_extension": ".py",
   "mimetype": "text/x-python",
   "name": "python",
   "nbconvert_exporter": "python",
   "pygments_lexer": "ipython3",
   "version": "3.10.0"
  },
  "orig_nbformat": 4
 },
 "nbformat": 4,
 "nbformat_minor": 2
}
