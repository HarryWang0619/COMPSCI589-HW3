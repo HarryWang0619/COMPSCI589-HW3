{
 "cells": [
  {
   "cell_type": "code",
   "execution_count": 30,
   "metadata": {},
   "outputs": [],
   "source": [
    "from run import *\n",
    "from evaluationmatrix import *"
   ]
  },
  {
   "cell_type": "code",
   "execution_count": 31,
   "metadata": {},
   "outputs": [],
   "source": [
    "housedata, housecategory = importhousedata()\n",
    "winedata, winecategory = importwinedata()\n",
    "cancerdata, cancercategory = importcancerdata()\n",
    "cmcdata,cmccategory = importcmcdata()"
   ]
  },
  {
   "cell_type": "code",
   "execution_count": 32,
   "metadata": {},
   "outputs": [
    {
     "name": "stdout",
     "output_type": "stream",
     "text": [
      "fold 1  accuracy:  0.9772727272727273\n",
      "fold 2  accuracy:  0.9090909090909091\n",
      "fold 3  accuracy:  0.9318181818181818\n",
      "fold 4  accuracy:  0.9772727272727273\n",
      "fold 5  accuracy:  0.9545454545454546\n",
      "fold 6  accuracy:  1.0\n",
      "fold 7  accuracy:  0.9318181818181818\n",
      "fold 8  accuracy:  0.9767441860465116\n",
      "fold 9  accuracy:  1.0\n",
      "fold 10  accuracy:  0.9523809523809523\n"
     ]
    }
   ],
   "source": [
    "lists,acc = kfoldcrossvalid(housedata, housecategory, 10, 20, 10, 10, 0.01, 'id3', 0.1)"
   ]
  },
  {
   "cell_type": "code",
   "execution_count": 33,
   "metadata": {},
   "outputs": [],
   "source": [
    "def evaluate(listsofoutput, positivelabel, beta=1):\n",
    "    # list is list of [predicted, actual]\n",
    "    listoftptnfpfn = []\n",
    "    accuarcylists = []\n",
    "    precisionlists = []\n",
    "    recalllists = []\n",
    "    fscorelists = []\n",
    "    for output in listsofoutput:\n",
    "        tp, tn, fp, fn, = 0, 0, 0, 0\n",
    "        for i in range(len(output)):\n",
    "            if output[i][0] == positivelabel and output[i][1] == positivelabel:\n",
    "                tp += 1\n",
    "            elif output[i][0] != positivelabel and output[i][0] == output[i][1]:\n",
    "                tn += 1\n",
    "            elif output[i][0] == positivelabel and output[i][1] != positivelabel:\n",
    "                fp += 1\n",
    "            elif output[i][0] != positivelabel and output[i][1] == positivelabel:\n",
    "                fn += 1\n",
    "        tptnfpfn = [tp, tn, fp, fn]\n",
    "        listoftptnfpfn.append(tptnfpfn)\n",
    "        accuarcylists.append(accuracy(tp, tn, fp, fn))\n",
    "        precisionlists.append(precision(tp, tn, fp, fn))\n",
    "        recalllists.append(recall(tp, tn, fp, fn))\n",
    "        fscorelists.append(fscore(tp, tn, fp, fn, beta))\n",
    "    return accuarcylists, precisionlists, recalllists, fscorelists, listoftptnfpfn"
   ]
  },
  {
   "cell_type": "code",
   "execution_count": 34,
   "metadata": {},
   "outputs": [],
   "source": [
    "def meanevaluation(listsofoutput, positivelabel, beta=1):\n",
    "    accuarcylists, precisionlists, recalllists, fscorelists, notused = evaluate(listsofoutput, positivelabel, beta)\n",
    "    return sum(accuarcylists)/len(accuarcylists), sum(precisionlists)/len(precisionlists), sum(recalllists)/len(recalllists), sum(fscorelists)/len(fscorelists)\n"
   ]
  },
  {
   "cell_type": "code",
   "execution_count": 35,
   "metadata": {},
   "outputs": [
    {
     "data": {
      "text/plain": [
       "(0.9610943320245646,\n",
       " 0.9419538429406851,\n",
       " 0.9643382352941178,\n",
       " 0.9506746919841149)"
      ]
     },
     "execution_count": 35,
     "metadata": {},
     "output_type": "execute_result"
    }
   ],
   "source": [
    "meanevaluation(lists, 1, 1)"
   ]
  }
 ],
 "metadata": {
  "interpreter": {
   "hash": "aee8b7b246df8f9039afb4144a1f6fd8d2ca17a180786b69acc140d282b71a49"
  },
  "kernelspec": {
   "display_name": "Python 3.10.0 64-bit",
   "language": "python",
   "name": "python3"
  },
  "language_info": {
   "codemirror_mode": {
    "name": "ipython",
    "version": 3
   },
   "file_extension": ".py",
   "mimetype": "text/x-python",
   "name": "python",
   "nbconvert_exporter": "python",
   "pygments_lexer": "ipython3",
   "version": "3.10.0"
  },
  "orig_nbformat": 4
 },
 "nbformat": 4,
 "nbformat_minor": 2
}
