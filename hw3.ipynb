{
 "cells": [
  {
   "cell_type": "markdown",
   "metadata": {},
   "source": [
    "# COMPSCI-589 HW3: Random Forest\n",
    "\n",
    "name: Harry (Haochen) Wang"
   ]
  },
  {
   "cell_type": "code",
   "execution_count": 1,
   "metadata": {},
   "outputs": [],
   "source": [
    "from evaluationmatrix import *\n",
    "from utils import *\n",
    "from decisiontree import *\n",
    "from randomforest import *\n",
    "from run import *"
   ]
  },
  {
   "cell_type": "code",
   "execution_count": 2,
   "metadata": {},
   "outputs": [],
   "source": [
    "housedata, housecategory = importhousedata()\n",
    "winedata, winecategory = importwinedata()\n",
    "cancerdata, cancercategory = importcancerdata()\n",
    "cmcdata,cmccategory = importcmcdata()\n",
    "\n",
    "parameterofn = [1, 5, 10, 20, 30, 40, 50]  # n of ntrees"
   ]
  },
  {
   "cell_type": "markdown",
   "metadata": {},
   "source": [
    "### I. Wine Dataset"
   ]
  },
  {
   "cell_type": "code",
   "execution_count": null,
   "metadata": {},
   "outputs": [],
   "source": [
    "wineaccuracy, wineprecision, winerecall, winef1 = [], [], [], []\n",
    "for n in parameterofn:\n",
    "    lists = kfoldcrossvalid(winedata, winecategory, 10, n, 10, 10, 0.01, 'id3', 0.1)[0]\n",
    "    beta = 1\n",
    "    acc0, pre0, rec0, fsc0 = meanevaluation(lists, 1, beta)\n",
    "    acc1, pre1, rec1, fsc1 = meanevaluation(lists, 2, beta)\n",
    "    acc2, pre2, rec2, fsc2 = meanevaluation(lists, 3, beta)\n",
    "    acc, pre, rec, fsc = (acc0+acc1+acc2)/3, (pre0+pre1+pre2)/3, (rec0+rec1+rec2)/3, (fsc0+fsc1+fsc2)/3\n",
    "    wineaccuracy.append(acc)\n",
    "    wineprecision.append(pre)\n",
    "    winerecall.append(rec)\n",
    "    winef1.append(fsc)\n",
    "    markdownaprf(acc, pre, rec, fsc, beta, n)"
   ]
  },
  {
   "cell_type": "markdown",
   "metadata": {},
   "source": [
    "Result/Stat of 1 trees random forest:\n",
    "| **Accuracy** | **Precision** | **Recall** | **F-Score, Beta=1** |\n",
    "| :---: | :---: | :---: | :---: |\n",
    "|0.934 | 0.914 | 0.904 | 0.906 |\n",
    "\n",
    "Result/Stat of 5 trees random forest:\n",
    "| **Accuracy** | **Precision** | **Recall** | **F-Score, Beta=1** |\n",
    "| :---: | :---: | :---: | :---: |\n",
    "|0.981 | 0.974 | 0.973 | 0.972 |\n",
    "\n",
    "Result/Stat of 10 trees random forest:\n",
    "| **Accuracy** | **Precision** | **Recall** | **F-Score, Beta=1** |\n",
    "| :---: | :---: | :---: | :---: |\n",
    "|0.974 | 0.967 | 0.962 | 0.961 |\n",
    "\n",
    "Result/Stat of 20 trees random forest:\n",
    "| **Accuracy** | **Precision** | **Recall** | **F-Score, Beta=1** |\n",
    "| :---: | :---: | :---: | :---: |\n",
    "|0.973 | 0.969 | 0.96 | 0.96 |\n",
    "\n",
    "Result/Stat of 30 trees random forest:\n",
    "| **Accuracy** | **Precision** | **Recall** | **F-Score, Beta=1** |\n",
    "| :---: | :---: | :---: | :---: |\n",
    "|0.984 | 0.981 | 0.978 | 0.977 |\n",
    "\n",
    "Result/Stat of 40 trees random forest:\n",
    "| **Accuracy** | **Precision** | **Recall** | **F-Score, Beta=1** |\n",
    "| :---: | :---: | :---: | :---: |\n",
    "|0.985 | 0.979 | 0.979 | 0.977 |\n",
    "\n",
    "Result/Stat of 50 trees random forest:\n",
    "| **Accuracy** | **Precision** | **Recall** | **F-Score, Beta=1** |\n",
    "| :---: | :---: | :---: | :---: |\n",
    "|0.977 | 0.969 | 0.967 | 0.965 |"
   ]
  },
  {
   "cell_type": "markdown",
   "metadata": {},
   "source": [
    "### II. 1984 US Congressional Voting Dataset"
   ]
  },
  {
   "cell_type": "code",
   "execution_count": 7,
   "metadata": {},
   "outputs": [
    {
     "data": {
      "text/markdown": [
       "\n",
       "\tResult/Stat of 1 trees random forest:\n",
       "    | **Accuracy** | **Precision** | **Recall** | **F-Score, Beta=1** |\n",
       "    | :---: | :---: | :---: | :---: |\n",
       "    |0.929 | 0.928 | 0.925 | 0.925 |\n",
       "    "
      ],
      "text/plain": [
       "<IPython.core.display.Markdown object>"
      ]
     },
     "metadata": {},
     "output_type": "display_data"
    },
    {
     "data": {
      "text/markdown": [
       "\n",
       "\tResult/Stat of 5 trees random forest:\n",
       "    | **Accuracy** | **Precision** | **Recall** | **F-Score, Beta=1** |\n",
       "    | :---: | :---: | :---: | :---: |\n",
       "    |0.952 | 0.953 | 0.948 | 0.948 |\n",
       "    "
      ],
      "text/plain": [
       "<IPython.core.display.Markdown object>"
      ]
     },
     "metadata": {},
     "output_type": "display_data"
    },
    {
     "data": {
      "text/markdown": [
       "\n",
       "\tResult/Stat of 10 trees random forest:\n",
       "    | **Accuracy** | **Precision** | **Recall** | **F-Score, Beta=1** |\n",
       "    | :---: | :---: | :---: | :---: |\n",
       "    |0.968 | 0.967 | 0.966 | 0.966 |\n",
       "    "
      ],
      "text/plain": [
       "<IPython.core.display.Markdown object>"
      ]
     },
     "metadata": {},
     "output_type": "display_data"
    },
    {
     "data": {
      "text/markdown": [
       "\n",
       "\tResult/Stat of 20 trees random forest:\n",
       "    | **Accuracy** | **Precision** | **Recall** | **F-Score, Beta=1** |\n",
       "    | :---: | :---: | :---: | :---: |\n",
       "    |0.959 | 0.958 | 0.957 | 0.957 |\n",
       "    "
      ],
      "text/plain": [
       "<IPython.core.display.Markdown object>"
      ]
     },
     "metadata": {},
     "output_type": "display_data"
    },
    {
     "data": {
      "text/markdown": [
       "\n",
       "\tResult/Stat of 30 trees random forest:\n",
       "    | **Accuracy** | **Precision** | **Recall** | **F-Score, Beta=1** |\n",
       "    | :---: | :---: | :---: | :---: |\n",
       "    |0.961 | 0.957 | 0.962 | 0.959 |\n",
       "    "
      ],
      "text/plain": [
       "<IPython.core.display.Markdown object>"
      ]
     },
     "metadata": {},
     "output_type": "display_data"
    },
    {
     "data": {
      "text/markdown": [
       "\n",
       "\tResult/Stat of 40 trees random forest:\n",
       "    | **Accuracy** | **Precision** | **Recall** | **F-Score, Beta=1** |\n",
       "    | :---: | :---: | :---: | :---: |\n",
       "    |0.963 | 0.964 | 0.961 | 0.961 |\n",
       "    "
      ],
      "text/plain": [
       "<IPython.core.display.Markdown object>"
      ]
     },
     "metadata": {},
     "output_type": "display_data"
    }
   ],
   "source": [
    "houseaccuracy, houseprecision, houserecall, housef1 = [], [], [], []\n",
    "for n in parameterofn:\n",
    "    lists = kfoldcrossvalid(housedata, housecategory, 10, n, 10, 10, 0.01, 'id3', 0.1)[0]\n",
    "    beta = 1\n",
    "    acc0, pre0, rec0, fsc0 = meanevaluation(lists, 0, beta)\n",
    "    acc1, pre1, rec1, fsc1 = meanevaluation(lists, 1, beta)\n",
    "    acc, pre, rec, fsc = (acc0+acc1)/2, (pre0+pre1)/2, (rec0+rec1)/2, (fsc0+fsc1)/2\n",
    "    houseaccuracy.append(acc)\n",
    "    houseprecision.append(pre)\n",
    "    houserecall.append(rec)\n",
    "    housef1.append(fsc)\n",
    "    markdownaprf(acc, pre, rec, fsc, beta, n)"
   ]
  },
  {
   "cell_type": "markdown",
   "metadata": {},
   "source": []
  },
  {
   "cell_type": "markdown",
   "metadata": {},
   "source": [
    "### III. Extra Points"
   ]
  },
  {
   "cell_type": "markdown",
   "metadata": {},
   "source": [
    "#### (Extra Points #1: 6 Points) \n",
    "Reconstruct the same graphs as above, but now using the Gini criterion. You should present the same analyses and graphs mentioned above. Discuss whether (and how) different performance metrics were affected (positively or negatively) by changing the splitting criterion, and explain why you think that was the case."
   ]
  },
  {
   "cell_type": "markdown",
   "metadata": {},
   "source": [
    "#### (Extra Points #2: 6 Points) \n",
    "Analyze a third dataset: the Breast Cancer Dataset. The goal, here, is to classify whether tissue removed via a biopsy indicates whether a person may or may not have breast cancer. There are 699 instances in this dataset. Each instance is described by 9 numerical attributes, and there are 2 classes. You should present the same analyses and graphs as discussed above. This dataset can be found in the same zip file as the two main datasets.\n"
   ]
  },
  {
   "cell_type": "markdown",
   "metadata": {},
   "source": [
    "#### (Extra Points #3: 12 Points) \n",
    "Analyze a fourth, more challenging dataset: the Contraceptive Method Choice Dataset. The goal, here, is to predict the type of contraceptive method used by a person based on many attributes describing that person. This dataset is more challenging because it combines both numerical and categorical attributes. There are 1473 instances in this dataset. Each instance is described by 9 attributes, and there are 3 classes. The dataset can be downloaded here. You should present the same analyses and graphs discussed above."
   ]
  },
  {
   "cell_type": "markdown",
   "metadata": {},
   "source": [
    "### IV. Appendix: Code"
   ]
  }
 ],
 "metadata": {
  "interpreter": {
   "hash": "aee8b7b246df8f9039afb4144a1f6fd8d2ca17a180786b69acc140d282b71a49"
  },
  "kernelspec": {
   "display_name": "Python 3.10.0 64-bit",
   "language": "python",
   "name": "python3"
  },
  "language_info": {
   "codemirror_mode": {
    "name": "ipython",
    "version": 3
   },
   "file_extension": ".py",
   "mimetype": "text/x-python",
   "name": "python",
   "nbconvert_exporter": "python",
   "pygments_lexer": "ipython3",
   "version": "3.10.0"
  },
  "orig_nbformat": 4
 },
 "nbformat": 4,
 "nbformat_minor": 2
}
