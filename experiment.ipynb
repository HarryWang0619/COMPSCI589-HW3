{
 "cells": [
  {
   "cell_type": "code",
   "execution_count": 31,
   "metadata": {},
   "outputs": [],
   "source": [
    "from utils import *\n",
    "from pprint import pprint"
   ]
  },
  {
   "cell_type": "code",
   "execution_count": 69,
   "metadata": {},
   "outputs": [
    {
     "name": "stdout",
     "output_type": "stream",
     "text": [
      "435\n",
      "{'#handicapped-infants': 'categorical', 'water-project-cost-sharing': 'categorical', 'adoption-of-the-budget-resolution': 'categorical', 'physician-fee-freeze': 'categorical', 'el-salvador-adi': 'categorical', 'religious-groups-in-schools': 'categorical', 'anti-satellite-test-ban': 'categorical', 'aid-to-nicaraguan-contras': 'categorical', 'mx-missile': 'categorical', 'immigration': 'categorical', 'synfuels-corporation-cutback': 'categorical', 'education-spending': 'categorical', 'superfund-right-to-sue': 'categorical', 'crime': 'categorical', 'duty-free-exports': 'categorical', 'export-administration-act-south-africa': 'categorical', 'class': 'class'}\n"
     ]
    }
   ],
   "source": [
    "house = importfile('hw3_house_votes_84.csv', ',')\n",
    "housecategory = {}\n",
    "for i in house[0]:\n",
    "    housecategory[i] = 'categorical'\n",
    "housecategory[\"class\"] = 'class'\n",
    "housedata = np.array(house[1:]).astype(float)\n",
    "\n",
    "# print(len(housedata))\n",
    "# print(housecategory)\n",
    "\n",
    "#class in last column"
   ]
  },
  {
   "cell_type": "code",
   "execution_count": 71,
   "metadata": {},
   "outputs": [
    {
     "name": "stdout",
     "output_type": "stream",
     "text": [
      "178\n",
      "{'# class': 'class', '1': 'numerical', '2': 'numerical', '3': 'numerical', '4': 'numerical', '5': 'numerical', '6': 'numerical', '7': 'numerical', '8': 'numerical', '9': 'numerical', '10': 'numerical', '11': 'numerical', '12': 'numerical', '13': 'numerical'}\n"
     ]
    }
   ],
   "source": [
    "wine = importfile('hw3_wine.csv', '\\t')\n",
    "winecategory = {}\n",
    "for i in wine[0]:\n",
    "    winecategory[i] = 'numerical'\n",
    "winecategory[\"# class\"] = 'class'\n",
    "winedata = np.array(wine[1:]).astype(float)\n",
    "# winedata = np.array([[float(item) for item in onelist] for onelist in wine[1:]])\n",
    "\n",
    "# print(len(winedata))\n",
    "# print(winecategory)\n",
    "\n",
    "#class in first column"
   ]
  },
  {
   "cell_type": "code",
   "execution_count": 73,
   "metadata": {},
   "outputs": [
    {
     "name": "stdout",
     "output_type": "stream",
     "text": [
      "{'Clump_Thickness': 'numerical', 'Cell_Size_Uniformity': 'numerical', 'Cell_Shape_Uniformity': 'numerical', 'Marginal_Adhesion': 'numerical', 'Single_Epi_Cell_Size': 'numerical', 'Bare_Nuclei': 'numerical', 'Bland_Chromatin': 'numerical', 'Normal_Nucleoli': 'numerical', 'Mitoses': 'numerical', 'Class': 'class'}\n"
     ]
    }
   ],
   "source": [
    "cancer = importfile('hw3_cancer.csv', '\\t')\n",
    "cancercategory = {}\n",
    "for i in cancer[0]:\n",
    "    cancercategory[i] = 'numerical'\n",
    "cancercategory[\"Class\"] = 'class'\n",
    "cancerdata = np.array(cancer[1:]).astype(float)\n",
    "\n",
    "#print(len(cancerdata))\n",
    "#print(cancercategory)\n",
    "\n",
    "#class in last column"
   ]
  },
  {
   "cell_type": "code",
   "execution_count": 74,
   "metadata": {},
   "outputs": [
    {
     "name": "stdout",
     "output_type": "stream",
     "text": [
      "{\"Wife's age\": 'numerical', \"Wife's education\": 'categorical', \"Husband's education\": 'categorical', 'Number of children ever born': 'numerical', \"Wife's religion\": 'binary', \"Wife's now working?\": 'binary', \"Husband's occupation\": 'categorical', 'Standard-of-living index': 'categorical', 'Media exposure': 'binary', 'Contraceptive method used': 'class'}\n"
     ]
    }
   ],
   "source": [
    "cmc = importfile('cmc.data', ',')\n",
    "cmccategory = {\"Wife's age\":\"numerical\",\"Wife's education\":\"categorical\",\n",
    "\"Husband's education\":\"categorical\",\"Number of children ever born\":\"numerical\",\n",
    "\"Wife's religion\":\"binary\",\"Wife's now working?\":\"binary\",\n",
    "\"Husband's occupation\":\"categorical\",\"Standard-of-living index\":\"categorical\",\n",
    "\"Media exposure\":\"binary\",\"Contraceptive method used\":\"class\"}\n",
    "cmcdata = np.array(cmc).astype(int)\n",
    "\n",
    "# print(len(cmcdata))\n",
    "# print(cmccategory)\n",
    "\n",
    "#class in last column"
   ]
  }
 ],
 "metadata": {
  "interpreter": {
   "hash": "aee8b7b246df8f9039afb4144a1f6fd8d2ca17a180786b69acc140d282b71a49"
  },
  "kernelspec": {
   "display_name": "Python 3.10.0 64-bit",
   "language": "python",
   "name": "python3"
  },
  "language_info": {
   "codemirror_mode": {
    "name": "ipython",
    "version": 3
   },
   "file_extension": ".py",
   "mimetype": "text/x-python",
   "name": "python",
   "nbconvert_exporter": "python",
   "pygments_lexer": "ipython3",
   "version": "3.10.0"
  },
  "orig_nbformat": 4
 },
 "nbformat": 4,
 "nbformat_minor": 2
}
