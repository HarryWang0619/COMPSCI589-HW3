{
 "cells": [
  {
   "cell_type": "code",
   "execution_count": 546,
   "metadata": {},
   "outputs": [],
   "source": [
    "from utils import *\n",
    "from pprint import pprint"
   ]
  },
  {
   "cell_type": "code",
   "execution_count": 547,
   "metadata": {},
   "outputs": [],
   "source": [
    "house = importfile('hw3_house_votes_84.csv', ',')\n",
    "housecategory = {}\n",
    "for i in house[0]:\n",
    "    housecategory[i] = 'categorical'\n",
    "housecategory[\"class\"] = 'class'\n",
    "housedata = np.array(house[1:]).astype(float)\n",
    "\n",
    "# print(len(housedata))\n",
    "# print(housecategory)\n",
    "\n",
    "#class in last column"
   ]
  },
  {
   "cell_type": "code",
   "execution_count": 548,
   "metadata": {},
   "outputs": [],
   "source": [
    "wine = importfile('hw3_wine.csv', '\\t')\n",
    "winecategory = {}\n",
    "for i in wine[0]:\n",
    "    winecategory[i] = 'numerical'\n",
    "winecategory[\"# class\"] = 'class'\n",
    "winedata = np.array(wine[1:]).astype(float)\n",
    "# winedata = np.array([[float(item) for item in onelist] for onelist in wine[1:]])\n",
    "\n",
    "# print(len(winedata))\n",
    "# print(winecategory)\n",
    "\n",
    "#class in first column"
   ]
  },
  {
   "cell_type": "code",
   "execution_count": 549,
   "metadata": {},
   "outputs": [],
   "source": [
    "cancer = importfile('hw3_cancer.csv', '\\t')\n",
    "cancercategory = {}\n",
    "for i in cancer[0]:\n",
    "    cancercategory[i] = 'numerical'\n",
    "cancercategory[\"Class\"] = 'class'\n",
    "cancerdata = np.array(cancer[1:]).astype(float)\n",
    "\n",
    "#print(len(cancerdata))\n",
    "#print(cancercategory)\n",
    "\n",
    "#class in last column"
   ]
  },
  {
   "cell_type": "code",
   "execution_count": 550,
   "metadata": {},
   "outputs": [],
   "source": [
    "cmc = importfile('cmc.data', ',')\n",
    "cmccategory = {\"Wife's age\":\"numerical\",\"Wife's education\":\"categorical\",\n",
    "\"Husband's education\":\"categorical\",\"Number of children ever born\":\"numerical\",\n",
    "\"Wife's religion\":\"binary\",\"Wife's now working?\":\"binary\",\n",
    "\"Husband's occupation\":\"categorical\",\"Standard-of-living index\":\"categorical\",\n",
    "\"Media exposure\":\"binary\",\"Contraceptive method used\":\"class\"}\n",
    "cmcdata = np.array(cmc).astype(int)\n",
    "\n",
    "# print(len(cmcdata))\n",
    "# print(cmccategory)\n",
    "\n",
    "#class in last column"
   ]
  },
  {
   "cell_type": "code",
   "execution_count": 551,
   "metadata": {},
   "outputs": [
    {
     "name": "stdout",
     "output_type": "stream",
     "text": [
      "{\"Wife's age\": 'numerical'}\n"
     ]
    }
   ],
   "source": [
    "w = {list(cmccategory.keys())[0]:cmccategory[list(cmccategory.keys())[0]]}\n",
    "\n",
    "print(w)"
   ]
  },
  {
   "cell_type": "code",
   "execution_count": 552,
   "metadata": {},
   "outputs": [],
   "source": [
    "def id3cat(collist, listattribution):\n",
    "    original_ent = entropy(collist[-1])\n",
    "    smallest_ent = 1\n",
    "    i = 0\n",
    "\n",
    "    # bestindex = i\n",
    "    best = listattribution[i]\n",
    "    for attributes in listattribution[:-1]: # I keep the last column: the target/label.\n",
    "        liskey = list(Counter(collist[i]).keys())\n",
    "        listofcategory = []\n",
    "        for value in liskey:\n",
    "            index = [idx for idx, element in enumerate(collist[i]) if element == value]\n",
    "            category = np.array(collist[-1][index]) \n",
    "            listofcategory.append(category) # list of nparrays of target/label/categories.\n",
    "\n",
    "        ent = 0\n",
    "        for cat in listofcategory:\n",
    "            a = len(cat)/len(collist[i]) # This is probability\n",
    "            ent += a * entropy(cat) # probability multiple by entropy\n",
    "\n",
    "        if ent < smallest_ent:\n",
    "            smallest_ent = ent\n",
    "            best = attributes\n",
    "            # bestindex = i\n",
    "        i+=1\n",
    "\n",
    "    return best, original_ent-smallest_ent"
   ]
  },
  {
   "cell_type": "code",
   "execution_count": 553,
   "metadata": {},
   "outputs": [],
   "source": [
    "def id3bestseperate(dataset, attributes:dict):\n",
    "    # dataset in is the dataset by row. \n",
    "    # attributes is the dictionary of attributes:type \n",
    "    # types: numerical, categorical, binary.\n",
    "    datasetbycolumn = dataset.T\n",
    "    classindex = list(attributes.values()).index(\"class\")\n",
    "    originalentrophy = entropy(datasetbycolumn[classindex])\n",
    "    smallestentrophy = originalentrophy\n",
    "    print(\"original entropy is: \", originalentrophy)\n",
    "    thresholdvalue = -1\n",
    "\n",
    "    i = 0\n",
    "    bestattribute = {list(attributes.keys())[i]:attributes[list(attributes.keys())[i]]}\n",
    "    attributesinuse = list(attributes.keys())[1:] if (classindex == 0) else list(attributes.keys())[:classindex]\n",
    "    # datasetinuse = datasetbycolumn[1:] if (classindex == 0) else datasetbycolumn[:classindex]\n",
    "\n",
    "    for attribute in attributesinuse:\n",
    "        idx = i+1 if classindex == 0 else i\n",
    "\n",
    "        if attributes[attribute] == \"categorical\" or attributes[attribute] == \"binary\":\n",
    "            print(\"attribute #\",i,\" is \",attribute)\n",
    "            listofkeys = list(Counter(datasetbycolumn[idx]).keys())\n",
    "            listofcategory = [] # this is the list of categorical values.\n",
    "            \n",
    "            for key in listofkeys:\n",
    "                indexlist = [idex for idex, element in enumerate(datasetbycolumn[idx]) if element == key]\n",
    "                category = np.array(datasetbycolumn[classindex][indexlist])\n",
    "                listofcategory.append(category)\n",
    "\n",
    "            entropynow = 0\n",
    "\n",
    "            for ctgry in listofcategory:\n",
    "                a = len(ctgry)/len(datasetbycolumn[idx]) # This is probability\n",
    "                entropynow += a * entropy(ctgry)\n",
    "\n",
    "            if entropynow < smallestentrophy:\n",
    "                smallestentrophy = entropynow\n",
    "                bestattribute = {attribute:attributes[attribute]}\n",
    "            \n",
    "        elif attributes[attribute] == \"numerical\":\n",
    "            print(\"attribute #\",i,\" is \",attribute)\n",
    "\n",
    "            datasetsort = datasetbycolumn.T[datasetbycolumn.T[:,idx].argsort(kind='quicksort')].T\n",
    "            currentthreshold = (datasetsort[idx][1]+datasetsort[idx][0])/2\n",
    "            k = 1\n",
    "            while k < len(datasetsort.T):\n",
    "                currentthreshold = (datasetsort[idx][k]+datasetsort[idx][k-1])/2\n",
    "                listofcategory = [datasetsort[classindex][:k],datasetsort[classindex][k:]]\n",
    "                entropynow = 0\n",
    "\n",
    "                for ctgry in listofcategory:\n",
    "                    a = len(ctgry)/len(datasetbycolumn[idx]) # This is probability\n",
    "                    entropynow += a * entropy(ctgry)\n",
    "\n",
    "                if entropynow < smallestentrophy:\n",
    "                    smallestentrophy = entropynow\n",
    "                    thresholdvalue = currentthreshold\n",
    "                    bestattribute = {attribute:attributes[attribute]}    \n",
    "                k += 1\n",
    "        i += 1\n",
    "\n",
    "    gain = originalentrophy-smallestentrophy\n",
    "    # set first attribution dictionary {key:type} to the best attributes.\n",
    "    return bestattribute, thresholdvalue, gain"
   ]
  },
  {
   "cell_type": "code",
   "execution_count": 554,
   "metadata": {},
   "outputs": [],
   "source": [
    "# a = winedata.T.copy()\n",
    "# print(a)\n",
    "# print(len(a))\n",
    "# asort = a.T[a.T[:,1].argsort(kind='quicksort')].T\n",
    "# print(asort[1])\n",
    "# print((asort[1][1]+asort[1][0])/2)\n",
    "# print(len(asort.T))"
   ]
  },
  {
   "cell_type": "code",
   "execution_count": 555,
   "metadata": {},
   "outputs": [],
   "source": [
    "def dropbyindex(data, category, listindex):\n",
    "    newdata = np.delete(data.T, listindex,0).T\n",
    "    keytoremove = [list(category.keys())[i] for i in listindex]\n",
    "    newcategory = category.copy()\n",
    "    [newcategory.pop(key) for key in keytoremove]\n",
    "    return newdata, newcategory"
   ]
  },
  {
   "cell_type": "code",
   "execution_count": 561,
   "metadata": {},
   "outputs": [
    {
     "name": "stdout",
     "output_type": "stream",
     "text": [
      "178\n",
      "original entropy is:  1.5668222768551812\n",
      "attribute # 0  is  4\n",
      "attribute # 1  is  9\n",
      "attribute # 2  is  10\n",
      "attribute # 3  is  11\n",
      "attribute # 4  is  12\n",
      "attribute # 5  is  13\n",
      "{'12': 'numerical'} 2.475 0.6173242577120465\n"
     ]
    }
   ],
   "source": [
    "removeindex0= [1,2,3,5,6,7,8]\n",
    "data1,category1=dropbyindex(winedata,winecategory,removeindex0)\n",
    "print(len(data1))\n",
    "bestattribute, thresholdvalue, gain = id3bestseperate(data1,category1)\n",
    "print(bestattribute, thresholdvalue, gain)"
   ]
  },
  {
   "cell_type": "code",
   "execution_count": 557,
   "metadata": {},
   "outputs": [
    {
     "name": "stdout",
     "output_type": "stream",
     "text": [
      "original entropy is:  0.9623080486960709\n",
      "attribute # 0  is  #handicapped-infants\n",
      "attribute # 1  is  physician-fee-freeze\n",
      "attribute # 2  is  el-salvador-adi\n",
      "attribute # 3  is  religious-groups-in-schools\n",
      "attribute # 4  is  anti-satellite-test-ban\n",
      "attribute # 5  is  aid-to-nicaraguan-contras\n",
      "attribute # 6  is  immigration\n",
      "attribute # 7  is  synfuels-corporation-cutback\n",
      "attribute # 8  is  education-spending\n",
      "attribute # 9  is  crime\n",
      "attribute # 10  is  duty-free-exports\n",
      "attribute # 11  is  export-administration-act-south-africa\n",
      "{'physician-fee-freeze': 'categorical'}\n"
     ]
    },
    {
     "data": {
      "text/plain": [
       "'physician-fee-freeze'"
      ]
     },
     "execution_count": 557,
     "metadata": {},
     "output_type": "execute_result"
    }
   ],
   "source": [
    "removeindex= [1,2,8,12]\n",
    "housedata1,housecategory1=dropbyindex(housedata,housecategory,removeindex)\n",
    "bestattribute, thresholdvalue, gain = id3bestseperate(housedata1,housecategory1)\n",
    "print(bestattribute)\n",
    "ba,ga = id3cat(housedata1.T,list(housecategory1.keys()))\n",
    "ba\n"
   ]
  }
 ],
 "metadata": {
  "interpreter": {
   "hash": "aee8b7b246df8f9039afb4144a1f6fd8d2ca17a180786b69acc140d282b71a49"
  },
  "kernelspec": {
   "display_name": "Python 3.10.0 64-bit",
   "language": "python",
   "name": "python3"
  },
  "language_info": {
   "codemirror_mode": {
    "name": "ipython",
    "version": 3
   },
   "file_extension": ".py",
   "mimetype": "text/x-python",
   "name": "python",
   "nbconvert_exporter": "python",
   "pygments_lexer": "ipython3",
   "version": "3.10.0"
  },
  "orig_nbformat": 4
 },
 "nbformat": 4,
 "nbformat_minor": 2
}
