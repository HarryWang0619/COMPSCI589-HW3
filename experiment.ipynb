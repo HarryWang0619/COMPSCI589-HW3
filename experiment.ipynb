{
 "cells": [
  {
   "cell_type": "code",
   "execution_count": 121,
   "metadata": {},
   "outputs": [],
   "source": [
    "from utils import *\n",
    "from pprint import pprint"
   ]
  },
  {
   "cell_type": "code",
   "execution_count": 122,
   "metadata": {},
   "outputs": [],
   "source": [
    "house = importfile('hw3_house_votes_84.csv', ',')\n",
    "housecategory = {}\n",
    "for i in house[0]:\n",
    "    housecategory[i] = 'categorical'\n",
    "housecategory[\"class\"] = 'class'\n",
    "housedata = np.array(house[1:]).astype(float)\n",
    "\n",
    "# print(len(housedata))\n",
    "# print(housecategory)\n",
    "\n",
    "#class in last column"
   ]
  },
  {
   "cell_type": "code",
   "execution_count": 123,
   "metadata": {},
   "outputs": [],
   "source": [
    "wine = importfile('hw3_wine.csv', '\\t')\n",
    "winecategory = {}\n",
    "for i in wine[0]:\n",
    "    winecategory[i] = 'numerical'\n",
    "winecategory[\"# class\"] = 'class'\n",
    "winedata = np.array(wine[1:]).astype(float)\n",
    "# winedata = np.array([[float(item) for item in onelist] for onelist in wine[1:]])\n",
    "\n",
    "# print(len(winedata))\n",
    "# print(winecategory)\n",
    "\n",
    "#class in first column"
   ]
  },
  {
   "cell_type": "code",
   "execution_count": 124,
   "metadata": {},
   "outputs": [],
   "source": [
    "cancer = importfile('hw3_cancer.csv', '\\t')\n",
    "cancercategory = {}\n",
    "for i in cancer[0]:\n",
    "    cancercategory[i] = 'numerical'\n",
    "cancercategory[\"Class\"] = 'class'\n",
    "cancerdata = np.array(cancer[1:]).astype(float)\n",
    "\n",
    "#print(len(cancerdata))\n",
    "#print(cancercategory)\n",
    "\n",
    "#class in last column"
   ]
  },
  {
   "cell_type": "code",
   "execution_count": 125,
   "metadata": {},
   "outputs": [],
   "source": [
    "cmc = importfile('cmc.data', ',')\n",
    "cmccategory = {\"Wife's age\":\"numerical\",\"Wife's education\":\"categorical\",\n",
    "\"Husband's education\":\"categorical\",\"Number of children ever born\":\"numerical\",\n",
    "\"Wife's religion\":\"binary\",\"Wife's now working?\":\"binary\",\n",
    "\"Husband's occupation\":\"categorical\",\"Standard-of-living index\":\"categorical\",\n",
    "\"Media exposure\":\"binary\",\"Contraceptive method used\":\"class\"}\n",
    "cmcdata = np.array(cmc).astype(int)\n",
    "\n",
    "# print(len(cmcdata))\n",
    "# print(cmccategory)\n",
    "\n",
    "#class in last column"
   ]
  },
  {
   "cell_type": "code",
   "execution_count": 126,
   "metadata": {},
   "outputs": [
    {
     "name": "stdout",
     "output_type": "stream",
     "text": [
      "{\"Wife's age\": 'numerical'}\n"
     ]
    }
   ],
   "source": [
    "w = {list(cmccategory.keys())[0]:cmccategory[list(cmccategory.keys())[0]]}\n",
    "\n",
    "print(w)"
   ]
  },
  {
   "cell_type": "code",
   "execution_count": 127,
   "metadata": {},
   "outputs": [],
   "source": [
    "def id3cat(collist, listattribution):\n",
    "    original_ent = entropy(collist[-1])\n",
    "    smallest_ent = 1\n",
    "    i = 0\n",
    "\n",
    "    # bestindex = i\n",
    "    best = listattribution[i]\n",
    "    for attributes in listattribution[:-1]: # I keep the last column: the target/label.\n",
    "        liskey = list(Counter(collist[i]).keys())\n",
    "        listofcategory = []\n",
    "        for value in liskey:\n",
    "            index = [idx for idx, element in enumerate(collist[i]) if element == value]\n",
    "            category = np.array(collist[-1][index]) \n",
    "            listofcategory.append(category) # list of nparrays of target/label/categories.\n",
    "\n",
    "        ent = 0\n",
    "        for cat in listofcategory:\n",
    "            a = len(cat)/len(collist[i]) # This is probability\n",
    "            ent += a * entropy(cat) # probability multiple by entropy\n",
    "\n",
    "        if ent < smallest_ent:\n",
    "            smallest_ent = ent\n",
    "            best = attributes\n",
    "            # bestindex = i\n",
    "        i+=1\n",
    "\n",
    "    return best, original_ent-smallest_ent"
   ]
  },
  {
   "cell_type": "code",
   "execution_count": 128,
   "metadata": {},
   "outputs": [],
   "source": [
    "def id3bestseperate(dataset, attributes:dict):\n",
    "    # dataset in is the dataset by row. \n",
    "    # attributes is the dictionary of attributes:type \n",
    "    # types: numerical, categorical, binary.\n",
    "    datasetbycolumn = dataset.T\n",
    "    classindex = list(attributes.values()).index(\"class\")\n",
    "    originalentrophy = entropy(datasetbycolumn[classindex])\n",
    "    smallestentrophy = 1\n",
    "\n",
    "    thresholdvalue = -1\n",
    "\n",
    "    gain = originalentrophy-smallestentrophy\n",
    "    i = 0\n",
    "    bestattribute = {list(attributes.keys())[i]:attributes[list(attributes.keys())[i]]}\n",
    "    attributesinuse = list(attributes.keys())[1:] if (classindex == 0) else list(attributes.keys())[:classindex]\n",
    "    datasetinuse = datasetbycolumn[1:] if (classindex == 0) else datasetbycolumn[:classindex]\n",
    "\n",
    "    for attribute in attributesinuse:\n",
    "        if attributes[attribute] == \"categorical\" or attributes[attribute] == \"binary\":\n",
    "            listofkeys = list(Counter(datasetinuse[i]).keys())\n",
    "            listofcategory = [] # this is the list of categorical values.\n",
    "            \n",
    "            for key in listofkeys:\n",
    "                indexlist = [idx for idx, element in enumerate(datasetinuse[i]) if element == key]\n",
    "                category = np.array(datasetbycolumn[classindex][indexlist])\n",
    "                listofcategory.append(category)\n",
    "\n",
    "            entropynow = 0\n",
    "\n",
    "            for ctgry in listofcategory:\n",
    "                a = len(ctgry)/len(datasetinuse[i]) # This is probability\n",
    "                entropynow += a * entropy(ctgry)\n",
    "\n",
    "            if entropynow < smallestentrophy:\n",
    "                smallestentrophy = entropynow\n",
    "                bestattribute = {attribute:attributes[attribute]}\n",
    "                \n",
    "        elif attributes[attribute] == \"numerical\":\n",
    "            k=\"ahah\"\n",
    "            \n",
    "        i += 1\n",
    "    # set first attribution dictionary {key:type} to the best attributes.\n",
    "    return bestattribute, thresholdvalue, gain"
   ]
  },
  {
   "cell_type": "code",
   "execution_count": null,
   "metadata": {},
   "outputs": [],
   "source": [
    "housedata,housecategory"
   ]
  },
  {
   "cell_type": "code",
   "execution_count": 129,
   "metadata": {},
   "outputs": [
    {
     "name": "stdout",
     "output_type": "stream",
     "text": [
      "{'physician-fee-freeze': 'categorical'}\n"
     ]
    }
   ],
   "source": [
    "bestattribute, thresholdvalue, gain = id3bestseperate(housedata,housecategory)\n",
    "print(bestattribute)"
   ]
  },
  {
   "cell_type": "code",
   "execution_count": 130,
   "metadata": {},
   "outputs": [
    {
     "data": {
      "text/plain": [
       "'physician-fee-freeze'"
      ]
     },
     "execution_count": 130,
     "metadata": {},
     "output_type": "execute_result"
    }
   ],
   "source": [
    "ba,ga = id3cat(housedata.T,list(housecategory.keys()))\n",
    "ba"
   ]
  }
 ],
 "metadata": {
  "interpreter": {
   "hash": "aee8b7b246df8f9039afb4144a1f6fd8d2ca17a180786b69acc140d282b71a49"
  },
  "kernelspec": {
   "display_name": "Python 3.10.0 64-bit",
   "language": "python",
   "name": "python3"
  },
  "language_info": {
   "codemirror_mode": {
    "name": "ipython",
    "version": 3
   },
   "file_extension": ".py",
   "mimetype": "text/x-python",
   "name": "python",
   "nbconvert_exporter": "python",
   "pygments_lexer": "ipython3",
   "version": "3.10.0"
  },
  "orig_nbformat": 4
 },
 "nbformat": 4,
 "nbformat_minor": 2
}
